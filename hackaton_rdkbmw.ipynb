{
 "cells": [
  {
   "cell_type": "code",
   "execution_count": null,
   "id": "2b31d2fc-f280-425e-82c7-f34b54ee83b1",
   "metadata": {},
   "outputs": [],
   "source": []
  },
  {
   "cell_type": "markdown",
   "id": "442a6486-dbca-4e5f-8b1b-b5255832919b",
   "metadata": {},
   "source": [
    "*******Create simple ghz for a given nr of qbits*******"
   ]
  },
  {
   "cell_type": "code",
   "execution_count": 1,
   "id": "1668f8b0-a4b2-44fb-819a-4ab7aaf4276c",
   "metadata": {},
   "outputs": [],
   "source": [
    "import qiskit.quantum_info as qi\n",
    "import math\n",
    "import  numpy as np\n",
    "from qiskit_aer import AerSimulator\n",
    "from qiskit import QuantumCircuit, QuantumRegister, ClassicalRegister\n",
    "\n",
    "#create basic ghz state \n",
    "\n",
    "def create_circuit_simple(num_qbits: int) -> QuantumCircuit:\n",
    "    \n",
    "    q = QuantumRegister(num_qbits, \"q\")\n",
    "    c = ClassicalRegister(num_qbits, \"c\")\n",
    "    qc = QuantumCircuit(q,c, name=\"ghz2\")\n",
    "    qc.h(q[0])\n",
    "    \n",
    "    for i in range(0, num_qbits-1):\n",
    "        qc.barrier()\n",
    "        qc.cx(q[i], q[i+1])\n",
    "            \n",
    "\n",
    "    #qc.measure(q,c)\n",
    "    \n",
    "    return qc\n",
    "\n",
    "#create simple and optimized GHZ state\n",
    "circuit0 = create_circuit_simple(7)"
   ]
  },
  {
   "cell_type": "code",
   "execution_count": 2,
   "id": "d6cb8c34-d796-4a73-8fff-e5be575bb93f",
   "metadata": {},
   "outputs": [
    {
     "data": {
      "text/html": [
       "<pre style=\"word-wrap: normal;white-space: pre;background: #fff0;line-height: 1.1;font-family: &quot;Courier New&quot;,Courier,monospace\">     ┌───┐ ░       ░       ░       ░       ░       ░      \n",
       "q_0: ┤ H ├─░───■───░───────░───────░───────░───────░──────\n",
       "     └───┘ ░ ┌─┴─┐ ░       ░       ░       ░       ░      \n",
       "q_1: ──────░─┤ X ├─░───■───░───────░───────░───────░──────\n",
       "           ░ └───┘ ░ ┌─┴─┐ ░       ░       ░       ░      \n",
       "q_2: ──────░───────░─┤ X ├─░───■───░───────░───────░──────\n",
       "           ░       ░ └───┘ ░ ┌─┴─┐ ░       ░       ░      \n",
       "q_3: ──────░───────░───────░─┤ X ├─░───■───░───────░──────\n",
       "           ░       ░       ░ └───┘ ░ ┌─┴─┐ ░       ░      \n",
       "q_4: ──────░───────░───────░───────░─┤ X ├─░───■───░──────\n",
       "           ░       ░       ░       ░ └───┘ ░ ┌─┴─┐ ░      \n",
       "q_5: ──────░───────░───────░───────░───────░─┤ X ├─░───■──\n",
       "           ░       ░       ░       ░       ░ └───┘ ░ ┌─┴─┐\n",
       "q_6: ──────░───────░───────░───────░───────░───────░─┤ X ├\n",
       "           ░       ░       ░       ░       ░       ░ └───┘\n",
       "c: 7/═════════════════════════════════════════════════════\n",
       "                                                          </pre>"
      ],
      "text/plain": [
       "     ┌───┐ ░       ░       ░       ░       ░       ░      \n",
       "q_0: ┤ H ├─░───■───░───────░───────░───────░───────░──────\n",
       "     └───┘ ░ ┌─┴─┐ ░       ░       ░       ░       ░      \n",
       "q_1: ──────░─┤ X ├─░───■───░───────░───────░───────░──────\n",
       "           ░ └───┘ ░ ┌─┴─┐ ░       ░       ░       ░      \n",
       "q_2: ──────░───────░─┤ X ├─░───■───░───────░───────░──────\n",
       "           ░       ░ └───┘ ░ ┌─┴─┐ ░       ░       ░      \n",
       "q_3: ──────░───────░───────░─┤ X ├─░───■───░───────░──────\n",
       "           ░       ░       ░ └───┘ ░ ┌─┴─┐ ░       ░      \n",
       "q_4: ──────░───────░───────░───────░─┤ X ├─░───■───░──────\n",
       "           ░       ░       ░       ░ └───┘ ░ ┌─┴─┐ ░      \n",
       "q_5: ──────░───────░───────░───────░───────░─┤ X ├─░───■──\n",
       "           ░       ░       ░       ░       ░ └───┘ ░ ┌─┴─┐\n",
       "q_6: ──────░───────░───────░───────░───────░───────░─┤ X ├\n",
       "           ░       ░       ░       ░       ░       ░ └───┘\n",
       "c: 7/═════════════════════════════════════════════════════\n",
       "                                                          "
      ]
     },
     "execution_count": 2,
     "metadata": {},
     "output_type": "execute_result"
    }
   ],
   "source": [
    "#draw simple  GHZ state\n",
    "circuit0.draw()"
   ]
  },
  {
   "cell_type": "code",
   "execution_count": 3,
   "id": "69c94e5b-e4b8-41d5-b493-90bb48f9d15d",
   "metadata": {},
   "outputs": [
    {
     "data": {
      "text/latex": [
       "$$\\frac{\\sqrt{2}}{2} |0000000\\rangle+\\frac{\\sqrt{2}}{2} |1111111\\rangle$$"
      ],
      "text/plain": [
       "<IPython.core.display.Latex object>"
      ]
     },
     "execution_count": 3,
     "metadata": {},
     "output_type": "execute_result"
    }
   ],
   "source": [
    "#print statevector of optimized_state\n",
    "sv=qi.Statevector(circuit0)\n",
    "sv.draw('latex')"
   ]
  },
  {
   "cell_type": "markdown",
   "id": "14d07159-1cfb-440a-8947-cdec6dacd2e3",
   "metadata": {},
   "source": [
    "******create optimized ghz state for a given nr of qbits****** \n",
    "\n",
    "* no Hadamard gate\n",
    "* more optimized"
   ]
  },
  {
   "cell_type": "code",
   "execution_count": 4,
   "id": "9839a656-6798-4839-9274-04ba058fe19e",
   "metadata": {},
   "outputs": [],
   "source": [
    "import qiskit.quantum_info as qi\n",
    "import math\n",
    "import  numpy as np\n",
    "from qiskit_aer import AerSimulator\n",
    "from qiskit import QuantumCircuit, QuantumRegister, ClassicalRegister\n",
    "\n",
    "def create_circuit(depth: int) -> QuantumCircuit:\n",
    "    num_qbits=depth\n",
    "    q = QuantumRegister(num_qbits, \"q\")\n",
    "    c = ClassicalRegister(num_qbits)\n",
    "    qc = QuantumCircuit(q,c, name=\"ghz2\")\n",
    "    \n",
    " \n",
    "    qc.sx(q[0])\n",
    "    qc.rz(np.pi/2,q[0])\n",
    "   \n",
    "    np2=int(math.log(num_qbits,2))\n",
    "    for i in range(0, np2):\n",
    "        qc.barrier()\n",
    "        \n",
    "        for j in range(0,2**i):\n",
    "            qc.cx(q[j], q[j+2**i])\n",
    "\n",
    "    qc.barrier()\n",
    "    for k in range(0,num_qbits-2**np2):\n",
    "        qc.cx(q[0], q[k+2**np2])\n",
    "            \n",
    "\n",
    "    \n",
    "    #qc.measure(q,c)\n",
    "    return qc"
   ]
  },
  {
   "cell_type": "code",
   "execution_count": 5,
   "id": "0c30f898-4e2c-43a9-ac6b-1f21d9010397",
   "metadata": {},
   "outputs": [
    {
     "data": {
      "text/html": [
       "<pre style=\"word-wrap: normal;white-space: pre;background: #fff0;line-height: 1.1;font-family: &quot;Courier New&quot;,Courier,monospace\">      ┌────┐┌─────────┐ ░       ░            ░                \n",
       " q_0: ┤ √X ├┤ Rz(π/2) ├─░───■───░───■────────░───■────■────■──\n",
       "      └────┘└─────────┘ ░ ┌─┴─┐ ░   │        ░   │    │    │  \n",
       " q_1: ──────────────────░─┤ X ├─░───┼────■───░───┼────┼────┼──\n",
       "                        ░ └───┘ ░ ┌─┴─┐  │   ░   │    │    │  \n",
       " q_2: ──────────────────░───────░─┤ X ├──┼───░───┼────┼────┼──\n",
       "                        ░       ░ └───┘┌─┴─┐ ░   │    │    │  \n",
       " q_3: ──────────────────░───────░──────┤ X ├─░───┼────┼────┼──\n",
       "                        ░       ░      └───┘ ░ ┌─┴─┐  │    │  \n",
       " q_4: ──────────────────░───────░────────────░─┤ X ├──┼────┼──\n",
       "                        ░       ░            ░ └───┘┌─┴─┐  │  \n",
       " q_5: ──────────────────░───────░────────────░──────┤ X ├──┼──\n",
       "                        ░       ░            ░      └───┘┌─┴─┐\n",
       " q_6: ──────────────────░───────░────────────░───────────┤ X ├\n",
       "                        ░       ░            ░           └───┘\n",
       "c0: 7/════════════════════════════════════════════════════════\n",
       "                                                              </pre>"
      ],
      "text/plain": [
       "      ┌────┐┌─────────┐ ░       ░            ░                \n",
       " q_0: ┤ √X ├┤ Rz(π/2) ├─░───■───░───■────────░───■────■────■──\n",
       "      └────┘└─────────┘ ░ ┌─┴─┐ ░   │        ░   │    │    │  \n",
       " q_1: ──────────────────░─┤ X ├─░───┼────■───░───┼────┼────┼──\n",
       "                        ░ └───┘ ░ ┌─┴─┐  │   ░   │    │    │  \n",
       " q_2: ──────────────────░───────░─┤ X ├──┼───░───┼────┼────┼──\n",
       "                        ░       ░ └───┘┌─┴─┐ ░   │    │    │  \n",
       " q_3: ──────────────────░───────░──────┤ X ├─░───┼────┼────┼──\n",
       "                        ░       ░      └───┘ ░ ┌─┴─┐  │    │  \n",
       " q_4: ──────────────────░───────░────────────░─┤ X ├──┼────┼──\n",
       "                        ░       ░            ░ └───┘┌─┴─┐  │  \n",
       " q_5: ──────────────────░───────░────────────░──────┤ X ├──┼──\n",
       "                        ░       ░            ░      └───┘┌─┴─┐\n",
       " q_6: ──────────────────░───────░────────────░───────────┤ X ├\n",
       "                        ░       ░            ░           └───┘\n",
       "c0: 7/════════════════════════════════════════════════════════\n",
       "                                                              "
      ]
     },
     "execution_count": 5,
     "metadata": {},
     "output_type": "execute_result"
    }
   ],
   "source": [
    "#create  optimized GHZ state\n",
    "circuit1 = create_circuit(7)\n",
    "circuit1.draw()"
   ]
  },
  {
   "cell_type": "code",
   "execution_count": 6,
   "id": "d7d39896-259c-4459-9ea0-cb447859571d",
   "metadata": {},
   "outputs": [
    {
     "data": {
      "text/latex": [
       "$$\\frac{\\sqrt{2}}{2} |0000000\\rangle+\\frac{\\sqrt{2}}{2} |1111111\\rangle$$"
      ],
      "text/plain": [
       "<IPython.core.display.Latex object>"
      ]
     },
     "execution_count": 6,
     "metadata": {},
     "output_type": "execute_result"
    }
   ],
   "source": [
    "#print statevector of optimized_state\n",
    "sv=qi.Statevector(circuit1)\n",
    "sv.draw('latex')\n"
   ]
  },
  {
   "cell_type": "markdown",
   "id": "6d0aba72-6882-4b2e-86c3-e62668c98ba6",
   "metadata": {},
   "source": [
    "*********Create computer layout-optimized ghz state*********\n",
    "\n",
    "* obtain a GHZ state based on a given quantum computer layout (connectivity graph)\n",
    "* the layout is provided as a adjacency matrix in a file.\n",
    "* the CNOT gates are applied between each pair of connected nodes\n",
    "* the function which creates the ghz state is using the adjacency matrix and starting node as an input\n",
    "* the exemoplification is on a H-segment in Falcon processor\n",
    "* all the qbits are used\n",
    "* no hadamard gate"
   ]
  },
  {
   "cell_type": "code",
   "execution_count": 7,
   "id": "32ee998e-f5a6-4140-9a36-fdf8594d9db8",
   "metadata": {},
   "outputs": [
    {
     "data": {
      "text/html": [
       "<pre style=\"word-wrap: normal;white-space: pre;background: #fff0;line-height: 1.1;font-family: &quot;Courier New&quot;,Courier,monospace\">                           ┌───┐          \n",
       "q_0: ──────────────────────┤ X ├──────────\n",
       "                      ┌───┐└─┬─┘          \n",
       "q_1: ─────────────────┤ X ├──■────■───────\n",
       "                      └─┬─┘     ┌─┴─┐     \n",
       "q_2: ───────────────────┼───────┤ X ├─────\n",
       "     ┌────┐┌─────────┐  │       └───┘     \n",
       "q_3: ┤ √X ├┤ Rz(π/2) ├──■────■────────────\n",
       "     └────┘└─────────┘       │  ┌───┐     \n",
       "q_4: ────────────────────────┼──┤ X ├─────\n",
       "                           ┌─┴─┐└─┬─┘     \n",
       "q_5: ──────────────────────┤ X ├──■────■──\n",
       "                           └───┘     ┌─┴─┐\n",
       "q_6: ────────────────────────────────┤ X ├\n",
       "                                     └───┘\n",
       "c: 7/═════════════════════════════════════\n",
       "                                          </pre>"
      ],
      "text/plain": [
       "                           ┌───┐          \n",
       "q_0: ──────────────────────┤ X ├──────────\n",
       "                      ┌───┐└─┬─┘          \n",
       "q_1: ─────────────────┤ X ├──■────■───────\n",
       "                      └─┬─┘     ┌─┴─┐     \n",
       "q_2: ───────────────────┼───────┤ X ├─────\n",
       "     ┌────┐┌─────────┐  │       └───┘     \n",
       "q_3: ┤ √X ├┤ Rz(π/2) ├──■────■────────────\n",
       "     └────┘└─────────┘       │  ┌───┐     \n",
       "q_4: ────────────────────────┼──┤ X ├─────\n",
       "                           ┌─┴─┐└─┬─┘     \n",
       "q_5: ──────────────────────┤ X ├──■────■──\n",
       "                           └───┘     ┌─┴─┐\n",
       "q_6: ────────────────────────────────┤ X ├\n",
       "                                     └───┘\n",
       "c: 7/═════════════════════════════════════\n",
       "                                          "
      ]
     },
     "execution_count": 7,
     "metadata": {},
     "output_type": "execute_result"
    }
   ],
   "source": [
    "import qiskit.quantum_info as qi\n",
    "import math\n",
    "import  numpy as np\n",
    "from qiskit_aer import AerSimulator\n",
    "from qiskit import QuantumCircuit, QuantumRegister, ClassicalRegister\n",
    "\n",
    "\n",
    "def ghzstate(start,matrix):\n",
    "    n=matrix.shape[0]\n",
    "    reached=[-1 for i in range(n)]\n",
    "    legaturi=[]\n",
    "    punctelay=[]\n",
    "    punctelay.append(start)\n",
    "    reached[start]=1\n",
    "    while len(punctelay)!=0:\n",
    "        x=punctelay[0]\n",
    "        punctelay.pop(0)\n",
    "        vec=np.where(matrix[x,:]==1)[0]\n",
    "        for y in vec:\n",
    "            if reached[y]==-1:\n",
    "                legaturi.append([x,y])\n",
    "                punctelay.append(y)\n",
    "                reached[y]=1\n",
    "        \n",
    "    circuit=QuantumCircuit(n,n)\n",
    "    #circuit.h(start)\n",
    "    circuit.sx(start)\n",
    "    circuit.rz(np.pi/2,start)\n",
    "    for i in legaturi:\n",
    "        circuit.cx(i[0],i[1])\n",
    "    return circuit\n",
    "n=7\n",
    "matrix=np.zeros((n,n),dtype=int)\n",
    "matrix[0,1]=1\n",
    "matrix[1,0]=1\n",
    "matrix[1,2]=1\n",
    "matrix[2,1]=1\n",
    "matrix[1,3]=1\n",
    "matrix[3,1]=1\n",
    "matrix[3,5]=1\n",
    "matrix[5,3]=1\n",
    "matrix[5,6]=1\n",
    "matrix[6,5]=1\n",
    "matrix[5,4]=1\n",
    "matrix[4,5]=1\n",
    "np.savetxt(\"adiacenta.txt\",matrix)\n",
    "matrix=np.loadtxt(\"adiacenta.txt\")\n",
    "circuit2=ghzstate(3,matrix)\n",
    "circuit2.draw()"
   ]
  },
  {
   "cell_type": "code",
   "execution_count": 8,
   "id": "c4ce71ec-b0e0-4bf0-bcad-4a9fa2064f36",
   "metadata": {},
   "outputs": [
    {
     "data": {
      "text/latex": [
       "$$\\frac{\\sqrt{2}}{2} |0000000\\rangle+\\frac{\\sqrt{2}}{2} |1111111\\rangle$$"
      ],
      "text/plain": [
       "<IPython.core.display.Latex object>"
      ]
     },
     "execution_count": 8,
     "metadata": {},
     "output_type": "execute_result"
    }
   ],
   "source": [
    "sv=qi.Statevector(circuit2)\n",
    "sv.draw('latex')"
   ]
  },
  {
   "cell_type": "markdown",
   "id": "cb66731d-7f13-481d-88d7-f4ae2885b3c8",
   "metadata": {},
   "source": [
    "****Create computer layout-optimized ghz state using recursive function****\n",
    "\n",
    "* obtain a GHZ state based on a given quantum computer layout\n",
    "* the layout is provided as a adjacency matrix \n",
    "* the CNOT gates are applied between each pair of connected nodes\n",
    "* function which generates ghz state is using as input a connectivity matrix and a starting node\n",
    "* exemplification on a H gate in Falcon processor\n",
    "* use recursive function\n",
    "* no hadamard gate"
   ]
  },
  {
   "cell_type": "code",
   "execution_count": 9,
   "id": "bdda9b6b-a2a7-4a36-8b19-2ee6c1524f40",
   "metadata": {},
   "outputs": [
    {
     "data": {
      "text/html": [
       "<pre style=\"word-wrap: normal;white-space: pre;background: #fff0;line-height: 1.1;font-family: &quot;Courier New&quot;,Courier,monospace\">                           ┌───┐                    \n",
       "q_0: ──────────────────────┤ X ├────────────────────\n",
       "                      ┌───┐└─┬─┘                    \n",
       "q_1: ─────────────────┤ X ├──■────■─────────────────\n",
       "     ┌────┐┌─────────┐└─┬─┘       │                 \n",
       "q_2: ┤ √X ├┤ Rz(π/2) ├──■─────────┼─────────────────\n",
       "     └────┘└─────────┘          ┌─┴─┐               \n",
       "q_3: ───────────────────────────┤ X ├──■────────────\n",
       "                                └───┘  │  ┌───┐     \n",
       "q_4: ──────────────────────────────────┼──┤ X ├─────\n",
       "                                     ┌─┴─┐└─┬─┘     \n",
       "q_5: ────────────────────────────────┤ X ├──■────■──\n",
       "                                     └───┘     ┌─┴─┐\n",
       "q_6: ──────────────────────────────────────────┤ X ├\n",
       "                                               └───┘\n",
       "c: 1/═══════════════════════════════════════════════\n",
       "                                                    </pre>"
      ],
      "text/plain": [
       "                           ┌───┐                    \n",
       "q_0: ──────────────────────┤ X ├────────────────────\n",
       "                      ┌───┐└─┬─┘                    \n",
       "q_1: ─────────────────┤ X ├──■────■─────────────────\n",
       "     ┌────┐┌─────────┐└─┬─┘       │                 \n",
       "q_2: ┤ √X ├┤ Rz(π/2) ├──■─────────┼─────────────────\n",
       "     └────┘└─────────┘          ┌─┴─┐               \n",
       "q_3: ───────────────────────────┤ X ├──■────────────\n",
       "                                └───┘  │  ┌───┐     \n",
       "q_4: ──────────────────────────────────┼──┤ X ├─────\n",
       "                                     ┌─┴─┐└─┬─┘     \n",
       "q_5: ────────────────────────────────┤ X ├──■────■──\n",
       "                                     └───┘     ┌─┴─┐\n",
       "q_6: ──────────────────────────────────────────┤ X ├\n",
       "                                               └───┘\n",
       "c: 1/═══════════════════════════════════════════════\n",
       "                                                    "
      ]
     },
     "execution_count": 9,
     "metadata": {},
     "output_type": "execute_result"
    }
   ],
   "source": [
    "from qiskit import QuantumCircuit, transpile\n",
    "from qiskit_aer import AerSimulator\n",
    "from qiskit.visualization import plot_histogram\n",
    "# Use Aer's AerSimulator\n",
    "simulator = AerSimulator()\n",
    "length=7 #number of qubits\n",
    "mat=[[0,1,0,0,0,0,0],[1,0,1,1,0,0,0],[0,1,0,0,0,0,0],[1,1,0,0,0,1,0],[0,0,0,0,0,1,0],[0,0,0,1,1,0,1],[0,0,0,0,0,1,0]]#adjaciency matrix\n",
    "# Create a Quantum Circuit acting on the q register\n",
    "circuit3 = QuantumCircuit(length, 1)\n",
    "# Use Aer's AerSimulator\n",
    "simulator = AerSimulator()\n",
    "#for start in range(0,length)\n",
    "start=2 #the start qubit\n",
    "went=[0,0,0,0,0,0,0]  #the unvisited neighbours\n",
    "went[start]=1 #visited the starting qubit\n",
    "circuit3.sx(start)\n",
    "circuit3.rz(np.pi/2,start)\n",
    "def recursive(param): #recursive function\n",
    "  for i in range(0,length):\n",
    "       if mat[param][i]==1 and went[i]==0:\n",
    "            circuit3.cx(param,i)\n",
    "            went[i]=1 #mark visited vertices (qubits)\n",
    "            recursive(i) #recursive call\n",
    "recursive(start)\n",
    "circuit3.draw()"
   ]
  },
  {
   "cell_type": "code",
   "execution_count": 10,
   "id": "b4032d7a-5d36-4423-9740-58b66f5a9dad",
   "metadata": {},
   "outputs": [
    {
     "data": {
      "text/latex": [
       "$$\\frac{\\sqrt{2}}{2} |0000000\\rangle+\\frac{\\sqrt{2}}{2} |1111111\\rangle$$"
      ],
      "text/plain": [
       "<IPython.core.display.Latex object>"
      ]
     },
     "execution_count": 10,
     "metadata": {},
     "output_type": "execute_result"
    }
   ],
   "source": [
    "sv=qi.Statevector(circuit3)\n",
    "sv.draw('latex')"
   ]
  },
  {
   "cell_type": "markdown",
   "id": "fff8e28b-a312-4b86-b656-4e3acd08a7bd",
   "metadata": {},
   "source": [
    "****new code here****"
   ]
  }
 ],
 "metadata": {
  "kernelspec": {
   "display_name": "Python 3 (ipykernel)",
   "language": "python",
   "name": "python3"
  },
  "language_info": {
   "codemirror_mode": {
    "name": "ipython",
    "version": 3
   },
   "file_extension": ".py",
   "mimetype": "text/x-python",
   "name": "python",
   "nbconvert_exporter": "python",
   "pygments_lexer": "ipython3",
   "version": "3.10.11"
  }
 },
 "nbformat": 4,
 "nbformat_minor": 5
}
